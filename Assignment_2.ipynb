{
  "nbformat": 4,
  "nbformat_minor": 0,
  "metadata": {
    "colab": {
      "provenance": []
    },
    "kernelspec": {
      "name": "python3",
      "display_name": "Python 3"
    },
    "language_info": {
      "name": "python"
    }
  },
  "cells": [
    {
      "cell_type": "code",
      "execution_count": null,
      "metadata": {
        "colab": {
          "base_uri": "https://localhost:8080/"
        },
        "id": "Iflk3FDWS7uF",
        "outputId": "1ea02deb-a68d-40cc-b969-6a1d68fa1b7d"
      },
      "outputs": [
        {
          "output_type": "stream",
          "name": "stdout",
          "text": [
            "enter your first name : Sai Varun\n",
            "enter your last name : Narajala\n",
            "User full name :  Sai Varun Narajala\n",
            "Alternate String :  SiVrnNrjl\n"
          ]
        }
      ],
      "source": [
        "first_name= input(\"enter your first name : \")\n",
        "last_name= input(\"enter your last name : \")\n",
        "\n",
        "def full_name(first_name,last_name):\n",
        "    return first_name +\" \"+last_name\n",
        "\n",
        "def string_alternative(full_name):\n",
        "    str = \"\"\n",
        "    for i in range(0,len(full_name),2):\n",
        "                       str+=full_name[i]\n",
        "    return str\n",
        "\n",
        "\n",
        "print(\"User full name : \",full_name(first_name,last_name))\n",
        "\n",
        "print(\"Alternate String : \",string_alternative(full_name(first_name,last_name)))"
      ]
    },
    {
      "cell_type": "code",
      "source": [
        "input_file = open(\"/content/sample_data/input.txt\", \"r\")\n",
        "output_file = open(\"output.txt\", \"w\")\n",
        "\n",
        "content = {}\n",
        "\n",
        "\n",
        "for line in input_file:\n",
        "    output_file.write(line)\n",
        "    new_l = line.split()\n",
        "    for x in new_l:\n",
        "        if(content.get(x)==None):\n",
        "            content[x]=1\n",
        "        else:\n",
        "            content[x] = content[x] + 1\n",
        "\n",
        "output_file.write(\" Word_Count : \")\n",
        "for key, value in content.items():\n",
        "        output_file.write('%s:%s\\n' % (key, value))\n",
        "input_file.close()\n",
        "output_file.close()"
      ],
      "metadata": {
        "id": "shNRQOyjTG9u"
      },
      "execution_count": 16,
      "outputs": []
    },
    {
      "cell_type": "code",
      "source": [
        "data = input(\"enter customer heights : \")\n",
        "\n",
        "def inchToCent(value):\n",
        "    return value*2.54\n",
        "\n",
        "heights = data.split()\n",
        "\n",
        "new_list = []\n",
        "\n",
        "for x in heights:\n",
        "    value = int(x)\n",
        "    new_list.append(inchToCent(value))\n",
        "\n",
        "print(\"show list : \",new_list)"
      ],
      "metadata": {
        "colab": {
          "base_uri": "https://localhost:8080/"
        },
        "id": "VJconvcaXO3-",
        "outputId": "b541d6d3-69d1-4775-8249-826e4bc3f1aa"
      },
      "execution_count": null,
      "outputs": [
        {
          "output_type": "stream",
          "name": "stdout",
          "text": [
            "enter customer heights : 224 234 222\n",
            "show list :  [568.96, 594.36, 563.88]\n"
          ]
        }
      ]
    }
  ]
}